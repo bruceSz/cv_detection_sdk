{
 "cells": [
  {
   "cell_type": "code",
   "execution_count": null,
   "metadata": {},
   "outputs": [],
   "source": []
  },
  {
   "cell_type": "code",
   "execution_count": 20,
   "metadata": {},
   "outputs": [
    {
     "name": "stdout",
     "output_type": "stream",
     "text": [
      "m: 4.5, n: 4.5\n",
      "y: [[-4.5]\n",
      " [-3.5]\n",
      " [-2.5]\n",
      " [-1.5]\n",
      " [-0.5]\n",
      " [ 0.5]\n",
      " [ 1.5]\n",
      " [ 2.5]\n",
      " [ 3.5]\n",
      " [ 4.5]] with shape: (10, 1), x:[[-4.5 -3.5 -2.5 -1.5 -0.5  0.5  1.5  2.5  3.5  4.5]], with shape: (1, 10)\n",
      "all larger than 0 True\n",
      "gaussian max is:  0.7788007830714049\n",
      "filter not working? True\n",
      "(10, 10)\n",
      "[[  0   0   0   0   0   0   0   0   0   0]\n",
      " [  0   0   0   0   0   0   0   0   0   0]\n",
      " [  0   0   0   3   9   9   3   0   0   0]\n",
      " [  0   0   3  26  73  73  26   3   0   0]\n",
      " [  0   0   9  73 198 198  73   9   0   0]\n",
      " [  0   0   9  73 198 198  73   9   0   0]\n",
      " [  0   0   3  26  73  73  26   3   0   0]\n",
      " [  0   0   0   3   9   9   3   0   0   0]\n",
      " [  0   0   0   0   0   0   0   0   0   0]\n",
      " [  0   0   0   0   0   0   0   0   0   0]]\n"
     ]
    },
    {
     "ename": "ValueError",
     "evalue": "shape mismatch: value array of shape (10,10) could not be broadcast to indexing result of shape (10,10,3)",
     "output_type": "error",
     "traceback": [
      "\u001b[0;31m---------------------------------------------------------------------------\u001b[0m",
      "\u001b[0;31mValueError\u001b[0m                                Traceback (most recent call last)",
      "\u001b[0;32m/tmp/ipykernel_21887/3594635371.py\u001b[0m in \u001b[0;36m<module>\u001b[0;34m\u001b[0m\n\u001b[1;32m     24\u001b[0m     \u001b[0;31m#print(x)\u001b[0m\u001b[0;34m\u001b[0m\u001b[0;34m\u001b[0m\u001b[0m\n\u001b[1;32m     25\u001b[0m \u001b[0;34m\u001b[0m\u001b[0m\n\u001b[0;32m---> 26\u001b[0;31m     \u001b[0mmat\u001b[0m\u001b[0;34m[\u001b[0m\u001b[0;36m10\u001b[0m\u001b[0;34m:\u001b[0m\u001b[0;36m10\u001b[0m\u001b[0;34m+\u001b[0m\u001b[0mx\u001b[0m\u001b[0;34m.\u001b[0m\u001b[0mshape\u001b[0m\u001b[0;34m[\u001b[0m\u001b[0;36m0\u001b[0m\u001b[0;34m]\u001b[0m\u001b[0;34m,\u001b[0m \u001b[0;36m10\u001b[0m\u001b[0;34m:\u001b[0m\u001b[0;36m10\u001b[0m\u001b[0;34m+\u001b[0m\u001b[0mx\u001b[0m\u001b[0;34m.\u001b[0m\u001b[0mshape\u001b[0m\u001b[0;34m[\u001b[0m\u001b[0;36m1\u001b[0m\u001b[0;34m]\u001b[0m\u001b[0;34m,\u001b[0m\u001b[0;34m[\u001b[0m\u001b[0;36m0\u001b[0m\u001b[0;34m,\u001b[0m\u001b[0;36m1\u001b[0m\u001b[0;34m,\u001b[0m\u001b[0;36m2\u001b[0m\u001b[0;34m]\u001b[0m\u001b[0;34m]\u001b[0m \u001b[0;34m=\u001b[0m \u001b[0mx\u001b[0m\u001b[0;34m\u001b[0m\u001b[0;34m\u001b[0m\u001b[0m\n\u001b[0m\u001b[1;32m     27\u001b[0m     \u001b[0;31m#mat[10:10+x.shape[0], 10:10+x.shape[1],1] = x\u001b[0m\u001b[0;34m\u001b[0m\u001b[0;34m\u001b[0m\u001b[0m\n\u001b[1;32m     28\u001b[0m     \u001b[0;31m#mat[10:10+x.shape[0], 10:10+x.shape[1],2] = x\u001b[0m\u001b[0;34m\u001b[0m\u001b[0;34m\u001b[0m\u001b[0m\n",
      "\u001b[0;31mValueError\u001b[0m: shape mismatch: value array of shape (10,10) could not be broadcast to indexing result of shape (10,10,3)"
     ]
    }
   ],
   "source": [
    "\n",
    "import sys\n",
    "import os\n",
    "sys.path.insert(0, os.path.dirname(os.path.abspath(sys.path[0])))\n",
    "\n",
    "#print(sys.path)\n",
    "\n",
    "from framework import dataset_mgr \n",
    "from framework.dataset_mgr import draw_umich_gaussian\n",
    "from framework.dataset_mgr import gaussian2D\n",
    "from IPython.display import display\n",
    "from PIL import Image\n",
    "import numpy as np\n",
    "mat = np.ones((50, 50, 3),dtype=np.uint8)\n",
    "#print(mat.shape)\n",
    "#display(Image.fromarray(mat))\n",
    "if 1:\n",
    "    #mat = mat * 128\n",
    "    #print(mat.shape)\n",
    "    x = gaussian2D((10,10))* 255\n",
    "    x = x.astype(np.uint8)\n",
    "    print(x.shape)\n",
    "    print(x)\n",
    "    #x = np.expand_dims(x, axis=2)\n",
    "    #print(x)\n",
    "\n",
    "    mat[10:10+x.shape[0], 10:10+x.shape[1],[0,1,2]] = x\n",
    "    #mat[10:10+x.shape[0], 10:10+x.shape[1],1] = x\n",
    "    #mat[10:10+x.shape[0], 10:10+x.shape[1],2] = x\n",
    "\n",
    "\n",
    "    print((mat == 0).all())\n",
    "    display(Image.fromarray(mat))"
   ]
  },
  {
   "cell_type": "code",
   "execution_count": null,
   "metadata": {},
   "outputs": [],
   "source": []
  }
 ],
 "metadata": {
  "kernelspec": {
   "display_name": "3d_process",
   "language": "python",
   "name": "python3"
  },
  "language_info": {
   "codemirror_mode": {
    "name": "ipython",
    "version": 3
   },
   "file_extension": ".py",
   "mimetype": "text/x-python",
   "name": "python",
   "nbconvert_exporter": "python",
   "pygments_lexer": "ipython3",
   "version": "3.9.7"
  },
  "orig_nbformat": 4
 },
 "nbformat": 4,
 "nbformat_minor": 2
}
