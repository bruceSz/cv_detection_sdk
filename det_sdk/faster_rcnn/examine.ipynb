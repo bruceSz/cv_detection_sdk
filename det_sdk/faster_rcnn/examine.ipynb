{
 "cells": [
  {
   "cell_type": "code",
   "execution_count": 4,
   "metadata": {},
   "outputs": [
    {
     "name": "stdout",
     "output_type": "stream",
     "text": [
      "(9, 4)\n",
      "(5472, 4)\n"
     ]
    },
    {
     "data": {
      "image/png": "[encoded data removed]",
      "text/plain": [
       "<Figure size 432x288 with 1 Axes>"
      ]
     },
     "metadata": {
      "needs_background": "light"
     },
     "output_type": "display_data"
    }
   ],
   "source": [
    "import numpy as np\n",
    "import anchors\n",
    "import matplotlib.pyplot as plt\n",
    "anchor_base = anchors.generate_anchor_base()\n",
    "print(anchor_base.shape)\n",
    "\n",
    "height, width, feat_stride = 38 , 38 , 16\n",
    "\n",
    "anchors_all = anchors._compute_all_shifted_anchors(anchor_base,height, width, feat_stride)\n",
    "print(anchors_all.shape)\n",
    "\n",
    "fig = plt.figure()\n",
    "ax = fig.add_subplot(111)\n",
    "plt.ylim(-300, 900)\n",
    "plt.xlim(-300, 900)\n",
    "\n",
    "shift_x = np.arange(0, width * feat_stride, feat_stride)\n",
    "shift_y = np.arange(0, height * feat_stride, feat_stride)\n",
    "\n",
    "shift_x, shift_y = np.meshgrid(shift_x, shift_y)\n",
    "\n",
    "plt.scatter(shift_x, shift_y)\n",
    "box_width = anchors_all[:,2] -  anchors_all[:,0]\n",
    "box_height = anchors_all[:,3] -  anchors_all[:,1]\n",
    "\n",
    "for i in range(len(box_width)):\n",
    "plt.show()"
   ]
  }
 ],
 "metadata": {
  "kernelspec": {
   "display_name": "3d_process",
   "language": "python",
   "name": "python3"
  },
  "language_info": {
   "codemirror_mode": {
    "name": "ipython",
    "version": 3
   },
   "file_extension": ".py",
   "mimetype": "text/x-python",
   "name": "python",
   "nbconvert_exporter": "python",
   "pygments_lexer": "ipython3",
   "version": "3.9.7"
  },
  "orig_nbformat": 4
 },
 "nbformat": 4,
 "nbformat_minor": 2
}
